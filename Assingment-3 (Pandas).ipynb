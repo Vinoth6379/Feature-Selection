{
 "cells": [
  {
   "cell_type": "code",
   "execution_count": 12,
   "id": "ea4fc0a7-5955-4b29-87e4-bf491cae7181",
   "metadata": {},
   "outputs": [],
   "source": [
    "import pandas as pd"
   ]
  },
  {
   "cell_type": "code",
   "execution_count": 39,
   "id": "945b4aec-80e7-4b60-8674-a8a03f93e109",
   "metadata": {},
   "outputs": [
    {
     "name": "stdout",
     "output_type": "stream",
     "text": [
      "      Name  Gender  Age  Height (cm)  Weight (kg)         City\n",
      "0    Alice  Female   25          165           58     New York\n",
      "1      Bob    Male   30          180           80  Los Angeles\n",
      "2  Charlie    Male   35          175           70      Chicago\n",
      "3    Diana  Female   28          170           65        Miami\n",
      "4      Eva  Female   27          175           60     New York\n"
     ]
    }
   ],
   "source": [
    "#1.Import pandas and read the data into a DataFrame. Print the first 5 rows of the DataFrame.\n",
    "\n",
    "data=pd.read_csv(\"file:///C:/Users/user/Downloads/padas_question.csv\")\n",
    "print(data.head())"
   ]
  },
  {
   "cell_type": "code",
   "execution_count": 40,
   "id": "bcddf37d-3da1-4276-a668-3f73cb90d5c2",
   "metadata": {},
   "outputs": [
    {
     "name": "stdout",
     "output_type": "stream",
     "text": [
      "Number of rows- 10\n",
      "Number of columns- 6\n"
     ]
    }
   ],
   "source": [
    "#2.Print the number of rows and columns in the DataFrame.\n",
    "\n",
    "data=pd.read_csv(\"file:///C:/Users/user/Downloads/padas_question.csv\")\n",
    "\n",
    "num_rows, num_columns = data.shape\n",
    "print(\"Number of rows-\", num_rows)\n",
    "print(\"Number of columns-\", num_columns)"
   ]
  },
  {
   "cell_type": "code",
   "execution_count": 41,
   "id": "65bcb57c-daa7-49a9-afe2-2dfc6065f036",
   "metadata": {},
   "outputs": [
    {
     "name": "stdout",
     "output_type": "stream",
     "text": [
      "Null value counts:\n",
      "Name           0\n",
      "Gender         0\n",
      "Age            0\n",
      "Height (cm)    0\n",
      "Weight (kg)    0\n",
      "City           0\n",
      "dtype: int64\n"
     ]
    }
   ],
   "source": [
    "#3. Print the null value count\n",
    "\n",
    "\n",
    "data=pd.read_csv(\"file:///C:/Users/user/Downloads/padas_question.csv\")\n",
    "\n",
    "null_counts = data.isnull().sum()\n",
    "print(\"Null value counts:\")\n",
    "print(null_counts)"
   ]
  },
  {
   "cell_type": "code",
   "execution_count": 42,
   "id": "3e680192-3ce0-4220-8696-744212898212",
   "metadata": {},
   "outputs": [
    {
     "name": "stdout",
     "output_type": "stream",
     "text": [
      "Average Age: 31.6\n",
      "Average Height: 175.0\n",
      "Average Weight: 68.9\n"
     ]
    }
   ],
   "source": [
    "#4. Print the average age, height, and weight of the people in the DataFrame.\n",
    "\n",
    "\n",
    "data=pd.read_csv(\"file:///C:/Users/user/Downloads/padas_question.csv\")\n",
    "\n",
    "average_age = data['Age'].mean()\n",
    "average_height = data['Height (cm)'].mean()\n",
    "average_weight = data['Weight (kg)'].mean()\n",
    "\n",
    "print(\"Average Age:\", average_age)\n",
    "print(\"Average Height:\", average_height)\n",
    "print(\"Average Weight:\", average_weight)"
   ]
  },
  {
   "cell_type": "code",
   "execution_count": 43,
   "id": "4827e350-4d93-4d1f-835d-89b2ef29f200",
   "metadata": {},
   "outputs": [
    {
     "name": "stdout",
     "output_type": "stream",
     "text": [
      "The tallest person is: Frank\n",
      "City: Houston\n"
     ]
    }
   ],
   "source": [
    "#5. Print the name and city of the person who is the tallest in the DataFrame.\n",
    "\n",
    "\n",
    "data=pd.read_csv(\"file:///C:/Users/user/Downloads/padas_question.csv\")\n",
    "\n",
    "max_height_index = data['Height (cm)'].idxmax()\n",
    "\n",
    "tallest_person_name = data.loc [max_height_index, 'Name']\n",
    "tallest_person_city = data.loc[max_height_index, 'City']\n",
    "\n",
    "print(\"The tallest person is:\", tallest_person_name)\n",
    "print(\"City:\", tallest_person_city)"
   ]
  },
  {
   "cell_type": "code",
   "execution_count": 44,
   "id": "75ce9009-a200-433b-ade9-34c55d052646",
   "metadata": {},
   "outputs": [
    {
     "name": "stdout",
     "output_type": "stream",
     "text": [
      "      Name  Gender  Age  Height (cm)  Weight (kg)         City       BMI\n",
      "0    Alice  Female   25          165           58     New York  0.002130\n",
      "1      Bob    Male   30          180           80  Los Angeles  0.002469\n",
      "2  Charlie    Male   35          175           70      Chicago  0.002286\n",
      "3    Diana  Female   28          170           65        Miami  0.002249\n",
      "4      Eva  Female   27          175           60     New York  0.001959\n",
      "5    Frank    Male   40          190           85      Houston  0.002355\n",
      "6    Grace  Female   32          168           55      Chicago  0.001949\n",
      "7    Henry    Male   45          175           75  Los Angeles  0.002449\n",
      "8      Ivy  Female   26          172           63        Miami  0.002130\n",
      "9     Jack    Male   28          180           78     New York  0.002407\n"
     ]
    }
   ],
   "source": [
    "#6.Create a new column in the DataFrame called \"BMI\" that calculates the body mass index of each person. BMI is calculated as weight (kg) divided by height (m) squared. Print the DataFrame with the new column.\n",
    "\n",
    "\n",
    "data=pd.read_csv(\"file:///C:/Users/user/Downloads/padas_question.csv\")\n",
    "\n",
    "data['BMI'] = data['Weight (kg)'] / (data['Height (cm)'] ** 2)\n",
    "\n",
    "print(data)"
   ]
  },
  {
   "cell_type": "code",
   "execution_count": 45,
   "id": "d1a0d887-db79-43e8-8388-76dbc02f4e3d",
   "metadata": {},
   "outputs": [
    {
     "name": "stdout",
     "output_type": "stream",
     "text": [
      "Average age, height, and weight by gender:\n",
      "         Age  Height (cm)  Weight (kg)\n",
      "Gender                                \n",
      "Female  27.6        170.0         60.2\n",
      "Male    35.6        180.0         77.6\n"
     ]
    }
   ],
   "source": [
    "#7.Group the data by gender and print the average age, height, and weight of males and females separately.\n",
    "\n",
    "data=pd.read_csv(\"file:///C:/Users/user/Downloads/padas_question.csv\")\n",
    "\n",
    "grouped_data = data.groupby('Gender').agg({'Age': 'mean', 'Height (cm)': 'mean', 'Weight (kg)': 'mean'})\n",
    "\n",
    "print(\"Average age, height, and weight by gender:\")\n",
    "print(grouped_data)\n"
   ]
  },
  {
   "cell_type": "code",
   "execution_count": 46,
   "id": "2780232c-65f2-4cae-910a-c9091953b6ac",
   "metadata": {},
   "outputs": [
    {
     "name": "stdout",
     "output_type": "stream",
     "text": [
      "First 3 rows of the sorted DataFrame:\n",
      "    Name  Gender  Age  Height (cm)  Weight (kg)      City\n",
      "0  Alice  Female   25          165           58  New York\n",
      "8    Ivy  Female   26          172           63     Miami\n",
      "4    Eva  Female   27          175           60  New York\n"
     ]
    }
   ],
   "source": [
    "#8. Sort the data by age in ascending order and print the first 3 rows of the sorted DataFrame.\n",
    "\n",
    "data=pd.read_csv(\"file:///C:/Users/user/Downloads/padas_question.csv\")\n",
    "\n",
    "sorted_data = data.sort_values(by='Age')\n",
    "\n",
    "print(\"First 3 rows of the sorted DataFrame:\")\n",
    "print(sorted_data.head(3))\n"
   ]
  },
  {
   "cell_type": "code",
   "execution_count": 47,
   "id": "f95c0b14-5d10-4e36-b1fb-95eeaea08353",
   "metadata": {},
   "outputs": [
    {
     "name": "stdout",
     "output_type": "stream",
     "text": [
      "People who live in New York:\n",
      "    Name  Gender  Age  Height (cm)  Weight (kg)      City\n",
      "0  Alice  Female   25          165           58  New York\n",
      "4    Eva  Female   27          175           60  New York\n",
      "9   Jack    Male   28          180           78  New York\n"
     ]
    }
   ],
   "source": [
    "#9.Filter the data to only include people who live in New York and print the resulting DataFrame.\n",
    "\n",
    "data=pd.read_csv(\"file:///C:/Users/user/Downloads/padas_question.csv\")\n",
    "\n",
    "new_york_data = data[data['City'] == 'New York']\n",
    "\n",
    "print(\"People who live in New York:\")\n",
    "print(new_york_data)"
   ]
  },
  {
   "cell_type": "code",
   "execution_count": null,
   "id": "a4b75f6c-bf58-4e5f-8f41-eb02ab29a943",
   "metadata": {},
   "outputs": [],
   "source": []
  },
  {
   "cell_type": "code",
   "execution_count": null,
   "id": "0dd049fb-bbb1-4617-b83e-bc4f84fa44df",
   "metadata": {},
   "outputs": [],
   "source": []
  },
  {
   "cell_type": "code",
   "execution_count": null,
   "id": "c2a752c3-0a8d-4f9c-9be4-91e598e77d98",
   "metadata": {},
   "outputs": [],
   "source": []
  },
  {
   "cell_type": "code",
   "execution_count": null,
   "id": "294a90a9-b3c9-44b8-ab5b-8ed18864a15a",
   "metadata": {},
   "outputs": [],
   "source": []
  },
  {
   "cell_type": "code",
   "execution_count": null,
   "id": "3a5ae7b5-75ae-4f96-9eff-a9d2aeb5ca4d",
   "metadata": {},
   "outputs": [],
   "source": []
  },
  {
   "cell_type": "code",
   "execution_count": null,
   "id": "1d38dded-3add-4970-9d44-2d33fdf50176",
   "metadata": {},
   "outputs": [],
   "source": []
  }
 ],
 "metadata": {
  "kernelspec": {
   "display_name": "Python 3 (ipykernel)",
   "language": "python",
   "name": "python3"
  },
  "language_info": {
   "codemirror_mode": {
    "name": "ipython",
    "version": 3
   },
   "file_extension": ".py",
   "mimetype": "text/x-python",
   "name": "python",
   "nbconvert_exporter": "python",
   "pygments_lexer": "ipython3",
   "version": "3.11.4"
  }
 },
 "nbformat": 4,
 "nbformat_minor": 5
}
